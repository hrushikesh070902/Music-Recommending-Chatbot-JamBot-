{
  "cells": [
    {
      "cell_type": "code",
      "execution_count": null,
      "metadata": {
        "id": "TJem_sS9FqbP"
      },
      "outputs": [],
      "source": [
        "from google.colab import drive\n",
        "drive.mount('/content/drive')"
      ]
    },
    {
      "cell_type": "code",
      "execution_count": null,
      "metadata": {
        "id": "KLtRqLAGEkLg"
      },
      "outputs": [],
      "source": [
        "!pip install anvil-uplink"
      ]
    },
    {
      "cell_type": "code",
      "execution_count": null,
      "metadata": {
        "id": "ba5bes9x5g0p"
      },
      "outputs": [],
      "source": [
        "import anvil.server\n",
        "\n",
        "anvil.server.connect(\"UISBPRXO45JXOW37TAV7S3BI-QTHQNQQN57DALOUQ\")"
      ]
    },
    {
      "cell_type": "code",
      "execution_count": null,
      "metadata": {
        "id": "O6kGcc4Qz58h"
      },
      "outputs": [],
      "source": [
        "# pip install tensorflow keras pickle nltk\n",
        "from google.colab import drive\n",
        "import numpy as np\n",
        "from keras.models import Sequential\n",
        "from keras.layers import Dense, Activation, Dropout\n",
        "# from keras.optimizers import SGD\n",
        "from tensorflow.keras.optimizers import SGD\n",
        "import random\n",
        "import nltk\n",
        "from nltk.stem import WordNetLemmatizer\n",
        "lemmatizer = WordNetLemmatizer()\n",
        "import json\n",
        "import pickle\n",
        "intents_file = open('/content/drive/MyDrive/Colab Notebooks/intents.json').read()\n",
        "intents = json.loads(intents_file)"
      ]
    },
    {
      "cell_type": "code",
      "execution_count": null,
      "metadata": {
        "id": "MOlYh5OC1FE-"
      },
      "outputs": [],
      "source": [
        "import nltk\n",
        "nltk.download('punkt')\n",
        "words=[]\n",
        "classes = []\n",
        "documents = []\n",
        "ignore_letters = ['!', '?', ',', '.']\n",
        "for intent in intents['intents']:\n",
        "    for pattern in intent['patterns']:\n",
        "        #tokenize each word\n",
        "        word = nltk.word_tokenize(pattern)\n",
        "        words.extend(word)\n",
        "        #add documents in the corpus\n",
        "        documents.append((word, intent['tag']))\n",
        "        # add to our classes list\n",
        "        if intent['tag'] not in classes:\n",
        "            classes.append(intent['tag'])\n",
        "print(documents)\n"
      ]
    },
    {
      "cell_type": "code",
      "execution_count": null,
      "metadata": {
        "id": "fQmkYrce2APb"
      },
      "outputs": [],
      "source": [
        "import nltk\n",
        "nltk.download('wordnet')\n",
        "# create the training data\n",
        "training = []\n",
        "# create empty array for the output\n",
        "output_empty = [0] * len(classes)\n",
        "# training set, bag of words for every sentence\n",
        "for doc in documents:\n",
        "    # initializing bag of words\n",
        "\n",
        "    bag = []\n",
        "    # list of tokenized words for the pattern\n",
        "    word_patterns = doc[0]\n",
        "    # lemmatize each word - create base word, in attempt to represent related words\n",
        "    word_patterns = [lemmatizer.lemmatize(word.lower()) for word in word_patterns]\n",
        "    # create the bag of words array with 1, if word is found in current pattern\n",
        "    for word in words:\n",
        "        bag.append(1) if word in word_patterns else bag.append(0)\n",
        "    # output is a '0' for each tag and '1' for current tag (for each pattern)\n",
        "    output_row = list(output_empty)\n",
        "    output_row[classes.index(doc[1])] = 1\n",
        "    training.append([bag, output_row])\n",
        "# shuffle the features and make numpy array\n",
        "random.shuffle(training)\n",
        "training = np.array(training)\n",
        "# create training and testing lists. X - patterns, Y - intents\n",
        "train_x = list(training[:,0])\n",
        "train_y = list(training[:,1])\n",
        "print(\"Training data is created\")"
      ]
    },
    {
      "cell_type": "code",
      "execution_count": null,
      "metadata": {
        "id": "N5SaLoZJ2kpo"
      },
      "outputs": [],
      "source": [
        "# deep neural networks model\n",
        "model = Sequential()\n",
        "model.add(Dense(128, input_shape=(len(train_x[0]),), activation='relu'))\n",
        "model.add(Dropout(0.5))\n",
        "model.add(Dense(64, activation='relu'))\n",
        "model.add(Dropout(0.5))\n",
        "model.add(Dense(len(train_y[0]), activation='softmax'))\n",
        "# Compiling model. SGD with Nesterov accelerated gradient gives good results for this model\n",
        "sgd = SGD(lr=0.01, decay=1e-6, momentum=0.9, nesterov=True)\n",
        "model.compile(loss='categorical_crossentropy', optimizer=sgd, metrics=['accuracy'])\n",
        "#Training and saving the model \n",
        "hist = model.fit(np.array(train_x), np.array(train_y), epochs=200, batch_size=5, verbose=1)\n",
        "model.save('chatbot_model.h5', hist)\n",
        "print(\"model is created\")"
      ]
    },
    {
      "cell_type": "code",
      "execution_count": null,
      "metadata": {
        "id": "chIZ8fT222Lo"
      },
      "outputs": [],
      "source": [
        "import nltk\n",
        "from nltk.stem import WordNetLemmatizer\n",
        "lemmatizer = WordNetLemmatizer()\n",
        "import pickle\n",
        "import numpy as np\n",
        "from keras.models import load_model\n",
        "model = load_model('chatbot_model.h5')\n",
        "import json\n",
        "import random\n",
        "intents = json.loads(open('/content/drive/MyDrive/Colab Notebooks/intents.json').read())\n",
        "words = pickle.load(open('/content/drive/MyDrive/Colab Notebooks/words.pkl','rb'))\n",
        "classes = pickle.load(open('/content/drive/MyDrive/Colab Notebooks/classes.pkl','rb'))\n",
        "def clean_up_sentence(sentence):\n",
        "    # tokenize the pattern - splitting words into array\n",
        "    sentence_words = nltk.word_tokenize(sentence)\n",
        "    # stemming every word - reducing to base form\n",
        "    sentence_words = [lemmatizer.lemmatize(word.lower()) for word in sentence_words]\n",
        "    return sentence_words\n",
        "# return bag of words array: 0 or 1 for words that exist in sentence\n",
        "def bag_of_words(sentence, words, show_details=True):\n",
        "    # tokenizing patterns\n",
        "    sentence_words = clean_up_sentence(sentence)\n",
        "    # bag of words - vocabulary matrix\n",
        "    bag = [0]*len(words)  \n",
        "    for s in sentence_words:\n",
        "        for i,word in enumerate(words):\n",
        "            if word == s: \n",
        "                # assign 1 if current word is in the vocabulary position\n",
        "                bag[i] = 1\n",
        "                if show_details:\n",
        "                    print (\"found in bag: %s\" % word)\n",
        "    return(np.array(bag))\n",
        "def predict_class(sentence):\n",
        "    # filter below  threshold predictions\n",
        "    p = bag_of_words(sentence, words,show_details=False)\n",
        "    res = model.predict(np.array([p]))[0]\n",
        "    ERROR_THRESHOLD = 0.25\n",
        "    results = [[i,r] for i,r in enumerate(res) if r>ERROR_THRESHOLD]\n",
        "    # sorting strength probability\n",
        "    results.sort(key=lambda x: x[1], reverse=True)\n",
        "    return_list = []\n",
        "    for r in results:\n",
        "        return_list.append({\"intent\": classes[r[0]], \"probability\": str(r[1])})\n",
        "    return return_list\n",
        "def getResponse(ints, intents_json):\n",
        "    tag = ints[0]['intent']\n",
        "    list_of_intents = intents_json['intents']\n",
        "    for i in list_of_intents:\n",
        "        if(i['tag']== tag):\n",
        "            result = random.choice(i['responses'])\n",
        "            break\n",
        "    return result"
      ]
    },
    {
      "cell_type": "code",
      "execution_count": null,
      "metadata": {
        "id": "naiGxGhK7wgu"
      },
      "outputs": [],
      "source": [
        "import numpy as np\n",
        "from keras.models import Sequential\n",
        "from keras.layers import Dense, Activation, Dropout\n",
        "# from keras.optimizers import SGD\n",
        "from tensorflow.keras.optimizers import SGD\n",
        "import random\n",
        "\n",
        "import nltk\n",
        "from nltk.stem import WordNetLemmatizer\n",
        "lemmatizer = WordNetLemmatizer()\n",
        "import json\n",
        "import pickle\n",
        "\n",
        "words=[]\n",
        "classes = []\n",
        "documents = []\n",
        "ignore_letters = ['!', '?', ',', '.']\n",
        "intents_file = open('/content/drive/MyDrive/Colab Notebooks/intents.json').read()\n",
        "intents = json.loads(intents_file)\n",
        "\n",
        "for intent in intents['intents']:\n",
        "    for pattern in intent['patterns']:\n",
        "        #tokenize each word\n",
        "        word = nltk.word_tokenize(pattern)\n",
        "        words.extend(word)\n",
        "        #add documents in the corpus\n",
        "        documents.append((word, intent['tag']))\n",
        "        # add to our classes list\n",
        "        if intent['tag'] not in classes:\n",
        "            classes.append(intent['tag'])\n",
        "print(documents)\n",
        "# lemmaztize and lower each word and remove duplicates\n",
        "words = [lemmatizer.lemmatize(w.lower()) for w in words if w not in ignore_letters]\n",
        "words = sorted(list(set(words)))\n",
        "# sort classes\n",
        "classes = sorted(list(set(classes)))\n",
        "# documents = combination between patterns and intents\n",
        "print (len(documents), \"documents\")\n",
        "# classes = intents\n",
        "print (len(classes), \"classes\", classes)\n",
        "# words = all words, vocabulary\n",
        "print (len(words), \"unique lemmatized words\", words)\n",
        "\n",
        "pickle.dump(words,open('words.pkl','wb'))\n",
        "pickle.dump(classes,open('classes.pkl','wb'))\n",
        "\n",
        "# create our training data\n",
        "training = []\n",
        "# create an empty array for our output\n",
        "output_empty = [0] * len(classes)\n",
        "# training set, bag of words for each sentence\n",
        "for doc in documents:\n",
        "    # initialize our bag of words\n",
        "    bag = []\n",
        "    # list of tokenized words for the pattern\n",
        "    pattern_words = doc[0]\n",
        "    # lemmatize each word - create base word, in attempt to represent related words\n",
        "    pattern_words = [lemmatizer.lemmatize(word.lower()) for word in pattern_words]\n",
        "    # create our bag of words array with 1, if word match found in current pattern\n",
        "    for word in words:\n",
        "        bag.append(1) if word in pattern_words else bag.append(0)\n",
        "        \n",
        "    # output is a '0' for each tag and '1' for current tag (for each pattern)\n",
        "    output_row = list(output_empty)\n",
        "    output_row[classes.index(doc[1])] = 1\n",
        "    \n",
        "    training.append([bag, output_row])\n",
        "# shuffle our features and turn into np.array\n",
        "random.shuffle(training)\n",
        "training = np.array(training)\n",
        "# create train and test lists. X - patterns, Y - intents\n",
        "train_x = list(training[:,0])\n",
        "train_y = list(training[:,1])\n",
        "print(\"Training data created\")\n",
        "\n",
        "# Create model - 3 layers. First layer 128 neurons, second layer 64 neurons and 3rd output layer contains number of neurons\n",
        "# equal to number of intents to predict output intent with softmax\n",
        "model = Sequential()\n",
        "model.add(Dense(128, input_shape=(len(train_x[0]),), activation='relu'))\n",
        "model.add(Dropout(0.5))\n",
        "model.add(Dense(64, activation='relu'))\n",
        "model.add(Dropout(0.5))\n",
        "model.add(Dense(len(train_y[0]), activation='softmax'))\n",
        "\n",
        "# Compile model. Stochastic gradient descent with Nesterov accelerated gradient gives good results for this model\n",
        "sgd = SGD(lr=0.01, decay=1e-6, momentum=0.9, nesterov=True)\n",
        "model.compile(loss='categorical_crossentropy', optimizer=sgd, metrics=['accuracy'])\n",
        "\n",
        "#fitting and saving the model \n",
        "hist = model.fit(np.array(train_x), np.array(train_y), epochs=172, batch_size=5, verbose=1)\n",
        "model.save('chatbot_model.h5', hist)\n",
        "\n",
        "print(\"model created\")"
      ]
    },
    {
      "cell_type": "code",
      "execution_count": null,
      "metadata": {
        "id": "_eClH25jEfc4"
      },
      "outputs": [],
      "source": [
        "!pip install ibm_watson"
      ]
    },
    {
      "cell_type": "code",
      "execution_count": null,
      "metadata": {
        "id": "OWBZbYdIEnVH"
      },
      "outputs": [],
      "source": [
        "import anvil.server"
      ]
    },
    {
      "cell_type": "code",
      "execution_count": null,
      "metadata": {
        "id": "283kbj3jFIu6"
      },
      "outputs": [],
      "source": [
        "anvil.server.connect(\"UISBPRXO45JXOW37TAV7S3BI-QTHQNQQN57DALOUQ\")"
      ]
    },
    {
      "cell_type": "code",
      "execution_count": null,
      "metadata": {
        "id": "INk-3PU0rqA0"
      },
      "outputs": [],
      "source": [
        "import json\n",
        "from ibm_watson import ToneAnalyzerV3\n",
        "from ibm_cloud_sdk_core.authenticators import IAMAuthenticator"
      ]
    },
    {
      "cell_type": "code",
      "execution_count": null,
      "metadata": {
        "id": "yLZKraGLpUoq"
      },
      "outputs": [],
      "source": [
        "msg = list()\n",
        "text = str()"
      ]
    },
    {
      "cell_type": "code",
      "execution_count": null,
      "metadata": {
        "id": "jY-qqSlY8ifi"
      },
      "outputs": [],
      "source": [
        "@anvil.server.callable\n",
        "def responsed(msg1):\n",
        "    msg.append(msg1)\n",
        "    ints = predict_class(msg1)\n",
        "    res = getResponse(ints, intents)\n",
        "    return res"
      ]
    },
    {
      "cell_type": "code",
      "execution_count": null,
      "metadata": {
        "id": "StHSsHWQk20Q"
      },
      "outputs": [],
      "source": [
        "@anvil.server.callable\n",
        "def song_emotion():\n",
        "    authenticator = IAMAuthenticator(\"MD5GVWMyn6ZtKbfrsi4-akEQoli-Ik8dctkkPxO2sF2Y\")\n",
        "    tone_analyzer = ToneAnalyzerV3(\n",
        "        version='2017-09-21',\n",
        "        authenticator=authenticator\n",
        "    \n",
        "    )\n",
        "\n",
        "    tone_analyzer.set_service_url( \"https://api.au-syd.tone-analyzer.watson.cloud.ibm.com/instances/51ea3a2c-85d3-4a18-8855-c47fd2c90479\")\n",
        "    # text = \"\"\n",
        "    # for i in msg:\n",
        "    #     text = text+i\n",
        "    len1 = len(msg)\n",
        "    tone_analysis = tone_analyzer.tone(\n",
        "        {'text': msg[len1-1]+\" \"+msg[len1-2]+\" \"+msg[len1-3]+\" \"+msg[len1-4]+\" \"+msg[len1-5]},\n",
        "        content_type='application/json'\n",
        "    ).get_result()\n",
        "    dic1 = dict()\n",
        "    emotion=tone_analysis[\"document_tone\"][\"tones\"][0][\"tone_name\"]\n",
        "    dic1['emotion'] = emotion\n",
        "    import requests\n",
        "\n",
        "    url=f\"http://ws.audioscrobbler.com/2.0/?method=tag.gettoptracks&tag={emotion}&api_key=670ed82a5251608fc1d95b1e15ae7c10&format=json&limit=10\"\n",
        "    response = requests.get(url)\n",
        "    payload = response.json()\n",
        "    for i in range(10):\n",
        "        r=payload['tracks']['track'][i]\n",
        "        dic1[r['name']] = r['url']\n",
        "    return dic1"
      ]
    },
    {
      "cell_type": "code",
      "execution_count": null,
      "metadata": {
        "id": "q18XH1RWpAXV"
      },
      "outputs": [],
      "source": [
        "# SONG RECOMMENDATION"
      ]
    },
    {
      "cell_type": "code",
      "execution_count": null,
      "metadata": {
        "id": "8N4bfBmXnBkm"
      },
      "outputs": [],
      "source": [
        "import requests\n",
        "\n",
        "url=f\"http://ws.audioscrobbler.com/2.0/?method=tag.gettoptracks&tag=happy&api_key=670ed82a5251608fc1d95b1e15ae7c10&format=json&limit=5\"\n",
        "response = requests.get(url)\n",
        "payload = response.json()\n",
        "# for i in range(4):\n",
        "r=payload['tracks']['track'][0]\n",
        "# print(r['url'])\n",
        "print(payload)"
      ]
    },
    {
      "cell_type": "code",
      "execution_count": null,
      "metadata": {
        "id": "Zio9sPymm7kF"
      },
      "outputs": [],
      "source": [
        "# print(dic1)"
      ]
    },
    {
      "cell_type": "code",
      "execution_count": null,
      "metadata": {
        "colab": {
          "background_save": true
        },
        "id": "ZCECIQiBEDpr"
      },
      "outputs": [],
      "source": [
        "print(\"Chatbot : Hey there, Wassup ?\")\n",
        "# responded function takes text of user and returns chatbot output\n",
        "for i in range(7):\n",
        "    m = input(\"User : \")\n",
        "    res = responsed(m)\n",
        "    print(\"Chatbot : \"+res)\n",
        "ans = song_emotion()\n",
        "print(\"Emotion : \"+ans['emotion'])"
      ]
    },
    {
      "cell_type": "code",
      "execution_count": null,
      "metadata": {
        "id": "O4yla2WTHiGz"
      },
      "outputs": [],
      "source": [
        "# song_emotion function would return dictionary consisting of emotion and recommended songs\n",
        "ans = song_emotion()\n",
        "print(\"Emotion : \"+ans['emotion'])\n",
        "ans.pop('emotion')\n",
        "lst = list(ans.keys())\n",
        "print(\"Song Recommendations : \")\n",
        "for i in range(10):\n",
        "    print(\"Song_name : \"+lst[i])\n",
        "    print(\"Song_URL : \"+ans[lst[i]])\n"
      ]
    }
  ],
  "metadata": {
    "colab": {
      "collapsed_sections": [],
      "name": "JamBot",
      "provenance": []
    },
    "kernelspec": {
      "display_name": "Python 3",
      "name": "python3"
    },
    "language_info": {
      "name": "python"
    }
  },
  "nbformat": 4,
  "nbformat_minor": 0
}